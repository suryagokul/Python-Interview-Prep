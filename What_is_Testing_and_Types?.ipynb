{
  "nbformat": 4,
  "nbformat_minor": 0,
  "metadata": {
    "colab": {
      "name": "What is Testing and Types?.ipynb",
      "provenance": [],
      "authorship_tag": "ABX9TyOFwgzRp86VWkGYu8Uad9Kt",
      "include_colab_link": true
    },
    "kernelspec": {
      "name": "python3",
      "display_name": "Python 3"
    }
  },
  "cells": [
    {
      "cell_type": "markdown",
      "metadata": {
        "id": "view-in-github",
        "colab_type": "text"
      },
      "source": [
        "<a href=\"https://colab.research.google.com/github/suryagokul/Python-Interview-Prep/blob/main/What_is_Testing_and_Types%3F.ipynb\" target=\"_parent\"><img src=\"https://colab.research.google.com/assets/colab-badge.svg\" alt=\"Open In Colab\"/></a>"
      ]
    },
    {
      "cell_type": "markdown",
      "metadata": {
        "id": "xIumenW5I_xp"
      },
      "source": [
        "# Testing\r\n",
        "\r\n",
        "Testing is the process of executing a program with the aim of finding errors. To make our software perform well it should be error-free. If testing is done successfully it will remove all the errors from the software.\r\n",
        "\r\n",
        "1. **UnitTesting**\r\n",
        "\r\n",
        "2. **Integrated Testing**\r\n",
        "\r\n",
        "3. **Alpha Testing**\r\n",
        "\r\n",
        "4. **Beta Testing**\r\n",
        "\r\n",
        "`The process of testing whether a particular unit in the sense block of code is working properly or not is called Unit Testing.`\r\n",
        "\r\n",
        "`The process of testing entire application (end to end testing) is called Integrated Testing.`\r\n",
        "\r\n",
        "`Process where testing is performed internally within the organization is called as Alpha Testing.`\r\n",
        "\r\n",
        "`The test is conducted at one or more customer sites by the end-user of the software. This version is released for a limited number of users for testing in a real-time environment is known as Beta Test.`\r\n"
      ]
    }
  ]
}