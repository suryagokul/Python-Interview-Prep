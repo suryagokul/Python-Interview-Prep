{
  "nbformat": 4,
  "nbformat_minor": 0,
  "metadata": {
    "colab": {
      "name": "Erros vs Exceptions.ipynb",
      "provenance": [],
      "authorship_tag": "ABX9TyPZV+DAkgDpBHZjV5XYGg5g",
      "include_colab_link": true
    },
    "kernelspec": {
      "name": "python3",
      "display_name": "Python 3"
    }
  },
  "cells": [
    {
      "cell_type": "markdown",
      "metadata": {
        "id": "view-in-github",
        "colab_type": "text"
      },
      "source": [
        "<a href=\"https://colab.research.google.com/github/suryagokul/Python-Interview-Prep/blob/main/Erros_vs_Exceptions.ipynb\" target=\"_parent\"><img src=\"https://colab.research.google.com/assets/colab-badge.svg\" alt=\"Open In Colab\"/></a>"
      ]
    },
    {
      "cell_type": "markdown",
      "metadata": {
        "id": "DIwW9iz_cfYA"
      },
      "source": [
        "# Error vs Exception"
      ]
    },
    {
      "cell_type": "markdown",
      "metadata": {
        "id": "MtP2ufwMc6Ys"
      },
      "source": [
        "`Errors are the problems in program due to which the program will stop the execution.`"
      ]
    },
    {
      "cell_type": "markdown",
      "metadata": {
        "id": "8TxfvBLidAVp"
      },
      "source": [
        "`Exceptions are raised when the some internal events occur due to which changes the normal flow of program`"
      ]
    },
    {
      "cell_type": "markdown",
      "metadata": {
        "id": "IvYs9SVDdWX4"
      },
      "source": [
        "`Two types of errors occurs in python : `\r\n",
        "\r\n",
        "              1. Syntax errors\r\n",
        "\r\n",
        "              2. Logical Errors (Exceptions)\r\n",
        "\r\n",
        "`By this we can say that exceptions are some type of errors in a program.`"
      ]
    },
    {
      "cell_type": "markdown",
      "metadata": {
        "id": "Lfd4re9EdnMM"
      },
      "source": [
        "### Syntax Errors"
      ]
    },
    {
      "cell_type": "markdown",
      "metadata": {
        "id": "4sB27fl8dtcm"
      },
      "source": [
        "`When the the proper syntax of the language is not followed then syntax error is thrown.`"
      ]
    },
    {
      "cell_type": "markdown",
      "metadata": {
        "id": "-xfUzO89d3cw"
      },
      "source": [
        "Example - \r\n",
        "\r\n",
        "                  a = 50\r\n",
        "\r\n",
        "                  if (a<100) \r\n",
        "                    print(a)\r\n",
        "\r\n",
        "\r\n",
        "Here we missed out `column : ` for if condition.So it throws `Syntax Error as shown below..`"
      ]
    },
    {
      "cell_type": "code",
      "metadata": {
        "colab": {
          "base_uri": "https://localhost:8080/",
          "height": 129
        },
        "id": "FcL5ug5ldqET",
        "outputId": "9bd3c928-2c3e-491c-bf1e-4362b5ae1e9e"
      },
      "source": [
        " a = 50\r\n",
        "\r\n",
        "if (a<100) \r\n",
        "  print(a)"
      ],
      "execution_count": null,
      "outputs": [
        {
          "output_type": "error",
          "ename": "SyntaxError",
          "evalue": "ignored",
          "traceback": [
            "\u001b[0;36m  File \u001b[0;32m\"<ipython-input-3-5bbde537d176>\"\u001b[0;36m, line \u001b[0;32m3\u001b[0m\n\u001b[0;31m    if (a<100)\u001b[0m\n\u001b[0m               ^\u001b[0m\n\u001b[0;31mSyntaxError\u001b[0m\u001b[0;31m:\u001b[0m invalid syntax\n"
          ]
        }
      ]
    },
    {
      "cell_type": "markdown",
      "metadata": {
        "id": "Nnyvz-ZPe4CZ"
      },
      "source": [
        "We can fix this by writing the correct syntax."
      ]
    },
    {
      "cell_type": "code",
      "metadata": {
        "colab": {
          "base_uri": "https://localhost:8080/"
        },
        "id": "rv3sIXt0e5tK",
        "outputId": "8d5532f9-c45a-469a-efeb-ec081ef58262"
      },
      "source": [
        " a = 50\r\n",
        "\r\n",
        "if (a<100): \r\n",
        "  print(a)"
      ],
      "execution_count": null,
      "outputs": [
        {
          "output_type": "stream",
          "text": [
            "50\n"
          ],
          "name": "stdout"
        }
      ]
    },
    {
      "cell_type": "markdown",
      "metadata": {
        "id": "7y46VJxLld2-"
      },
      "source": [
        "`Error caused by not following the proper structure (syntax) of the language is called syntax error or parsing error.`\r\n",
        "\r\n"
      ]
    },
    {
      "cell_type": "markdown",
      "metadata": {
        "id": "07Z_KQO3eY6j"
      },
      "source": [
        "### Exceptions (Logical Errors)\r\n",
        "\r\n",
        "Runtime errors are called as Exceptions."
      ]
    },
    {
      "cell_type": "markdown",
      "metadata": {
        "id": "KZZ4J6CIfvoS"
      },
      "source": [
        "`Definition 1 :`\r\n",
        "\r\n",
        "    When in the runtime an error occurs after passing the syntax test is called \r\n",
        "    \r\n",
        "    exception or logical type. For example, when we divide any number by zero \r\n",
        "    \r\n",
        "    then ZeroDivisionError exception is raised, or when we import a module that \r\n",
        "    \r\n",
        "    does not exist then ImportError is raised.\r\n",
        "\r\n",
        "`Definition 2 : `\r\n",
        "\r\n",
        "    Exceptions are raised when code is syntatically correct but resulting an  \r\n",
        "    error because of logical mistake."
      ]
    },
    {
      "cell_type": "code",
      "metadata": {
        "colab": {
          "base_uri": "https://localhost:8080/",
          "height": 163
        },
        "id": "ge2Q_vzOlof9",
        "outputId": "06f769d8-9dd1-40ce-e343-284a5e2ab5dd"
      },
      "source": [
        "open(\"nofile.txt\")"
      ],
      "execution_count": null,
      "outputs": [
        {
          "output_type": "error",
          "ename": "FileNotFoundError",
          "evalue": "ignored",
          "traceback": [
            "\u001b[0;31m---------------------------------------------------------------------------\u001b[0m",
            "\u001b[0;31mFileNotFoundError\u001b[0m                         Traceback (most recent call last)",
            "\u001b[0;32m<ipython-input-8-8bc350897938>\u001b[0m in \u001b[0;36m<module>\u001b[0;34m()\u001b[0m\n\u001b[0;32m----> 1\u001b[0;31m \u001b[0mopen\u001b[0m\u001b[0;34m(\u001b[0m\u001b[0;34m\"nofile.txt\"\u001b[0m\u001b[0;34m)\u001b[0m\u001b[0;34m\u001b[0m\u001b[0;34m\u001b[0m\u001b[0m\n\u001b[0m",
            "\u001b[0;31mFileNotFoundError\u001b[0m: [Errno 2] No such file or directory: 'nofile.txt'"
          ]
        }
      ]
    },
    {
      "cell_type": "code",
      "metadata": {
        "colab": {
          "base_uri": "https://localhost:8080/",
          "height": 163
        },
        "id": "u6No4VLbeT4x",
        "outputId": "a9426f37-6c20-46af-8e1d-f90992c34fa4"
      },
      "source": [
        "print(10/0)"
      ],
      "execution_count": null,
      "outputs": [
        {
          "output_type": "error",
          "ename": "ZeroDivisionError",
          "evalue": "ignored",
          "traceback": [
            "\u001b[0;31m---------------------------------------------------------------------------\u001b[0m",
            "\u001b[0;31mZeroDivisionError\u001b[0m                         Traceback (most recent call last)",
            "\u001b[0;32m<ipython-input-5-fe01563e1bc6>\u001b[0m in \u001b[0;36m<module>\u001b[0;34m()\u001b[0m\n\u001b[0;32m----> 1\u001b[0;31m \u001b[0mprint\u001b[0m\u001b[0;34m(\u001b[0m\u001b[0;36m10\u001b[0m\u001b[0;34m/\u001b[0m\u001b[0;36m0\u001b[0m\u001b[0;34m)\u001b[0m\u001b[0;34m\u001b[0m\u001b[0;34m\u001b[0m\u001b[0m\n\u001b[0m",
            "\u001b[0;31mZeroDivisionError\u001b[0m: division by zero"
          ]
        }
      ]
    },
    {
      "cell_type": "markdown",
      "metadata": {
        "id": "Jqtt6QEFlBYv"
      },
      "source": [
        "**Handling Exception**"
      ]
    },
    {
      "cell_type": "code",
      "metadata": {
        "colab": {
          "base_uri": "https://localhost:8080/"
        },
        "id": "6PQG9WolkmtV",
        "outputId": "05f985a7-ecce-4b58-8711-3235465b8f03"
      },
      "source": [
        "try:\r\n",
        "  print(10/0)\r\n",
        "except:\r\n",
        "  print(\"I can't divide it...\")\r\n",
        "else:\r\n",
        "  print(\"If except block doesn't executes then I will execute\")\r\n",
        "finally:\r\n",
        "  print(\"I will execute everytime without any dependency\")"
      ],
      "execution_count": null,
      "outputs": [
        {
          "output_type": "stream",
          "text": [
            "I can't divide it...\n",
            "I will execute everytime without any dependency\n"
          ],
          "name": "stdout"
        }
      ]
    },
    {
      "cell_type": "markdown",
      "metadata": {
        "id": "m2L0rT4Hi97A"
      },
      "source": [
        "`Simply we can say an unexcepted event occurs at the time of execution is an exception`"
      ]
    },
    {
      "cell_type": "markdown",
      "metadata": {
        "id": "lLcuAddxgjvO"
      },
      "source": [
        "We can handle exceptions using try except block...We can also raise exceptions using the keyword `raise`"
      ]
    },
    {
      "cell_type": "markdown",
      "metadata": {
        "id": "WMkgI5n8kKgC"
      },
      "source": [
        "### Differences"
      ]
    },
    {
      "cell_type": "markdown",
      "metadata": {
        "id": "N7_Ep67QkGGt"
      },
      "source": [
        "![](https://miro.medium.com/max/1126/1*WmWKbRjraZ_vsUO8p8eKQw.png)"
      ]
    },
    {
      "cell_type": "markdown",
      "metadata": {
        "id": "-5SCFXdjmbHe"
      },
      "source": [
        "### Built-in Exceptions"
      ]
    },
    {
      "cell_type": "code",
      "metadata": {
        "colab": {
          "base_uri": "https://localhost:8080/"
        },
        "id": "sizL6IhAl9Ns",
        "outputId": "83a3072d-cfd2-48a8-cfdd-8d1121581a87"
      },
      "source": [
        "dir(locals()['__builtins__']) "
      ],
      "execution_count": 12,
      "outputs": [
        {
          "output_type": "execute_result",
          "data": {
            "text/plain": [
              "['ArithmeticError',\n",
              " 'AssertionError',\n",
              " 'AttributeError',\n",
              " 'BaseException',\n",
              " 'BlockingIOError',\n",
              " 'BrokenPipeError',\n",
              " 'BufferError',\n",
              " 'BytesWarning',\n",
              " 'ChildProcessError',\n",
              " 'ConnectionAbortedError',\n",
              " 'ConnectionError',\n",
              " 'ConnectionRefusedError',\n",
              " 'ConnectionResetError',\n",
              " 'DeprecationWarning',\n",
              " 'EOFError',\n",
              " 'Ellipsis',\n",
              " 'EnvironmentError',\n",
              " 'Exception',\n",
              " 'False',\n",
              " 'FileExistsError',\n",
              " 'FileNotFoundError',\n",
              " 'FloatingPointError',\n",
              " 'FutureWarning',\n",
              " 'GeneratorExit',\n",
              " 'IOError',\n",
              " 'ImportError',\n",
              " 'ImportWarning',\n",
              " 'IndentationError',\n",
              " 'IndexError',\n",
              " 'InterruptedError',\n",
              " 'IsADirectoryError',\n",
              " 'KeyError',\n",
              " 'KeyboardInterrupt',\n",
              " 'LookupError',\n",
              " 'MemoryError',\n",
              " 'ModuleNotFoundError',\n",
              " 'NameError',\n",
              " 'None',\n",
              " 'NotADirectoryError',\n",
              " 'NotImplemented',\n",
              " 'NotImplementedError',\n",
              " 'OSError',\n",
              " 'OverflowError',\n",
              " 'PendingDeprecationWarning',\n",
              " 'PermissionError',\n",
              " 'ProcessLookupError',\n",
              " 'RecursionError',\n",
              " 'ReferenceError',\n",
              " 'ResourceWarning',\n",
              " 'RuntimeError',\n",
              " 'RuntimeWarning',\n",
              " 'StopAsyncIteration',\n",
              " 'StopIteration',\n",
              " 'SyntaxError',\n",
              " 'SyntaxWarning',\n",
              " 'SystemError',\n",
              " 'SystemExit',\n",
              " 'TabError',\n",
              " 'TimeoutError',\n",
              " 'True',\n",
              " 'TypeError',\n",
              " 'UnboundLocalError',\n",
              " 'UnicodeDecodeError',\n",
              " 'UnicodeEncodeError',\n",
              " 'UnicodeError',\n",
              " 'UnicodeTranslateError',\n",
              " 'UnicodeWarning',\n",
              " 'UserWarning',\n",
              " 'ValueError',\n",
              " 'Warning',\n",
              " 'ZeroDivisionError',\n",
              " '__IPYTHON__',\n",
              " '__build_class__',\n",
              " '__debug__',\n",
              " '__doc__',\n",
              " '__import__',\n",
              " '__loader__',\n",
              " '__name__',\n",
              " '__package__',\n",
              " '__spec__',\n",
              " 'abs',\n",
              " 'all',\n",
              " 'any',\n",
              " 'ascii',\n",
              " 'bin',\n",
              " 'bool',\n",
              " 'bytearray',\n",
              " 'bytes',\n",
              " 'callable',\n",
              " 'chr',\n",
              " 'classmethod',\n",
              " 'compile',\n",
              " 'complex',\n",
              " 'copyright',\n",
              " 'credits',\n",
              " 'delattr',\n",
              " 'dict',\n",
              " 'dir',\n",
              " 'display',\n",
              " 'divmod',\n",
              " 'dreload',\n",
              " 'enumerate',\n",
              " 'eval',\n",
              " 'exec',\n",
              " 'filter',\n",
              " 'float',\n",
              " 'format',\n",
              " 'frozenset',\n",
              " 'get_ipython',\n",
              " 'getattr',\n",
              " 'globals',\n",
              " 'hasattr',\n",
              " 'hash',\n",
              " 'help',\n",
              " 'hex',\n",
              " 'id',\n",
              " 'input',\n",
              " 'int',\n",
              " 'isinstance',\n",
              " 'issubclass',\n",
              " 'iter',\n",
              " 'len',\n",
              " 'license',\n",
              " 'list',\n",
              " 'locals',\n",
              " 'map',\n",
              " 'max',\n",
              " 'memoryview',\n",
              " 'min',\n",
              " 'next',\n",
              " 'object',\n",
              " 'oct',\n",
              " 'open',\n",
              " 'ord',\n",
              " 'pow',\n",
              " 'print',\n",
              " 'property',\n",
              " 'range',\n",
              " 'repr',\n",
              " 'reversed',\n",
              " 'round',\n",
              " 'set',\n",
              " 'setattr',\n",
              " 'slice',\n",
              " 'sorted',\n",
              " 'staticmethod',\n",
              " 'str',\n",
              " 'sum',\n",
              " 'super',\n",
              " 'tuple',\n",
              " 'type',\n",
              " 'vars',\n",
              " 'zip']"
            ]
          },
          "metadata": {
            "tags": []
          },
          "execution_count": 12
        }
      ]
    },
    {
      "cell_type": "markdown",
      "metadata": {
        "id": "1ttFW0CAmxlX"
      },
      "source": [
        "### User Defined Exceptions"
      ]
    },
    {
      "cell_type": "markdown",
      "metadata": {
        "id": "FzSvz6YxjtOh"
      },
      "source": [
        "`Exception is the base class for all other exceptions in python`"
      ]
    },
    {
      "cell_type": "code",
      "metadata": {
        "colab": {
          "base_uri": "https://localhost:8080/",
          "height": 197
        },
        "id": "EsNXLE55l_ao",
        "outputId": "911e71e4-919d-4103-b5ec-46a6796fde10"
      },
      "source": [
        "class CustomError(Exception):\r\n",
        "  pass\r\n",
        "raise CustomError(\"An error raised\")"
      ],
      "execution_count": 15,
      "outputs": [
        {
          "output_type": "error",
          "ename": "CustomError",
          "evalue": "ignored",
          "traceback": [
            "\u001b[0;31m---------------------------------------------------------------------------\u001b[0m",
            "\u001b[0;31mCustomError\u001b[0m                               Traceback (most recent call last)",
            "\u001b[0;32m<ipython-input-15-cf5753719cfe>\u001b[0m in \u001b[0;36m<module>\u001b[0;34m()\u001b[0m\n\u001b[1;32m      1\u001b[0m \u001b[0;32mclass\u001b[0m \u001b[0mCustomError\u001b[0m\u001b[0;34m(\u001b[0m\u001b[0mException\u001b[0m\u001b[0;34m)\u001b[0m\u001b[0;34m:\u001b[0m\u001b[0;34m\u001b[0m\u001b[0;34m\u001b[0m\u001b[0m\n\u001b[1;32m      2\u001b[0m   \u001b[0;32mpass\u001b[0m\u001b[0;34m\u001b[0m\u001b[0;34m\u001b[0m\u001b[0m\n\u001b[0;32m----> 3\u001b[0;31m \u001b[0;32mraise\u001b[0m \u001b[0mCustomError\u001b[0m\u001b[0;34m(\u001b[0m\u001b[0;34m\"An error raised\"\u001b[0m\u001b[0;34m)\u001b[0m\u001b[0;34m\u001b[0m\u001b[0;34m\u001b[0m\u001b[0m\n\u001b[0m",
            "\u001b[0;31mCustomError\u001b[0m: An error raised"
          ]
        }
      ]
    },
    {
      "cell_type": "code",
      "metadata": {
        "colab": {
          "base_uri": "https://localhost:8080/",
          "height": 214
        },
        "id": "ioJhVT8MmwEL",
        "outputId": "c672694a-b68a-442c-d84e-5948e648689a"
      },
      "source": [
        "class ValueTooSmall(CustomError):\r\n",
        "  pass\r\n",
        "\r\n",
        "no =eval(input(\"Enter number\"))\r\n",
        "\r\n",
        "if no < 2:\r\n",
        "  raise ValueTooSmall(\"Value is very small.Enter large number\")"
      ],
      "execution_count": 16,
      "outputs": [
        {
          "output_type": "stream",
          "text": [
            "Enter number1\n"
          ],
          "name": "stdout"
        },
        {
          "output_type": "error",
          "ename": "ValueTooSmall",
          "evalue": "ignored",
          "traceback": [
            "\u001b[0;31m---------------------------------------------------------------------------\u001b[0m",
            "\u001b[0;31mValueTooSmall\u001b[0m                             Traceback (most recent call last)",
            "\u001b[0;32m<ipython-input-16-6fa1fd10a37e>\u001b[0m in \u001b[0;36m<module>\u001b[0;34m()\u001b[0m\n\u001b[1;32m      5\u001b[0m \u001b[0;34m\u001b[0m\u001b[0m\n\u001b[1;32m      6\u001b[0m \u001b[0;32mif\u001b[0m \u001b[0mno\u001b[0m \u001b[0;34m<\u001b[0m \u001b[0;36m2\u001b[0m\u001b[0;34m:\u001b[0m\u001b[0;34m\u001b[0m\u001b[0;34m\u001b[0m\u001b[0m\n\u001b[0;32m----> 7\u001b[0;31m   \u001b[0;32mraise\u001b[0m \u001b[0mValueTooSmall\u001b[0m\u001b[0;34m(\u001b[0m\u001b[0;34m\"Value is very small.Enter large number\"\u001b[0m\u001b[0;34m)\u001b[0m\u001b[0;34m\u001b[0m\u001b[0;34m\u001b[0m\u001b[0m\n\u001b[0m",
            "\u001b[0;31mValueTooSmall\u001b[0m: Value is very small.Enter large number"
          ]
        }
      ]
    }
  ]
}